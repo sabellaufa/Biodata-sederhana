{
 "cells": [
  {
   "cell_type": "markdown",
   "id": "a69ada42-60db-4424-9eac-9d8fe1fcb9c0",
   "metadata": {},
   "source": [
    "Buatlah Biodata sederhana dengan menggunakan fungsi input(), dan variabel dengan fungsi format()"
   ]
  },
  {
   "cell_type": "code",
   "execution_count": 1,
   "id": "24a69047-f094-4cd4-bb05-9cc8e8aea780",
   "metadata": {},
   "outputs": [
    {
     "name": "stdin",
     "output_type": "stream",
     "text": [
      "masukan nama :  sabella aufa syahda\n",
      "masukan umur :  20\n",
      "masukan kelas :  ti23j\n",
      "masukan alamat :  palabuhanratu\n",
      "masukan hobby :  menyanyi\n"
     ]
    },
    {
     "name": "stdout",
     "output_type": "stream",
     "text": [
      "\\ Nama : sabella aufa syahda \n",
      " umur : 20 \n",
      " \n",
      " kelas : ti23j \n",
      " \n",
      " alamat : palabuhanratu \n",
      " \n",
      " hobby : menyanyi \n",
      "\n"
     ]
    }
   ],
   "source": [
    "nama = input('masukan nama : ')\n",
    "umur = input('masukan umur : ')\n",
    "kelas = input('masukan kelas : ')\n",
    "alamat = input('masukan alamat : ')\n",
    "hobby = input('masukan hobby : ')\n",
    "\n",
    "biodata = \"\\ Nama : {} \\n umur : {} \\n \\n kelas : {} \\n \\n alamat : {} \\n \\n hobby : {} \\n\". format(nama,int(umur),kelas,alamat,hobby)\n",
    "\n",
    "print(biodata)"
   ]
  },
  {
   "cell_type": "code",
   "execution_count": null,
   "id": "479fff44-a2e7-43e3-88a3-cbffb56f887a",
   "metadata": {},
   "outputs": [],
   "source": []
  }
 ],
 "metadata": {
  "kernelspec": {
   "display_name": "Python 3 (ipykernel)",
   "language": "python",
   "name": "python3"
  },
  "language_info": {
   "codemirror_mode": {
    "name": "ipython",
    "version": 3
   },
   "file_extension": ".py",
   "mimetype": "text/x-python",
   "name": "python",
   "nbconvert_exporter": "python",
   "pygments_lexer": "ipython3",
   "version": "3.11.7"
  }
 },
 "nbformat": 4,
 "nbformat_minor": 5
}
